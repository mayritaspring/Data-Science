{
 "cells": [
  {
   "cell_type": "code",
   "execution_count": 3,
   "metadata": {},
   "outputs": [],
   "source": [
    "import pandas as pd\n",
    "import warnings\n",
    "warnings.filterwarnings(\"ignore\")\n",
    "import numpy as np\n",
    "import pandas as pd\n",
    "import csv\n",
    "#import cPickle as pickle\n",
    "import pywFM\n",
    "from sklearn.metrics import roc_auc_score, mean_squared_error\n",
    "from sklearn.preprocessing import OneHotEncoder\n",
    "from sklearn.linear_model import LogisticRegression, Ridge\n",
    "from sklearn.cross_validation import train_test_split\n",
    "from fastFM.mcmc import FMClassification, FMRegression\n",
    "#from pyfm import pylibfm"
   ]
  },
  {
   "cell_type": "code",
   "execution_count": 6,
   "metadata": {},
   "outputs": [],
   "source": [
    "# set path\n",
    "default_path = \"/Users/mayritaspring/Desktop/Github/Data/Recommender System\"\n",
    "import os\n",
    "os.chdir(default_path)"
   ]
  },
  {
   "cell_type": "code",
   "execution_count": 7,
   "metadata": {},
   "outputs": [
    {
     "data": {
      "text/html": [
       "<div>\n",
       "<style scoped>\n",
       "    .dataframe tbody tr th:only-of-type {\n",
       "        vertical-align: middle;\n",
       "    }\n",
       "\n",
       "    .dataframe tbody tr th {\n",
       "        vertical-align: top;\n",
       "    }\n",
       "\n",
       "    .dataframe thead th {\n",
       "        text-align: right;\n",
       "    }\n",
       "</style>\n",
       "<table border=\"1\" class=\"dataframe\">\n",
       "  <thead>\n",
       "    <tr style=\"text-align: right;\">\n",
       "      <th></th>\n",
       "      <th>0 2:1:1 7:2:1 3:3:1 4:4:1 4:5:1 4:6:1 5:7:1 5:8:1 5:9:1 6:10:1 6:11:1 6:12:1 6:13:1 6:14:1 8:15:1 9:16:1 10:17:1 11:18:1 12:19:1 13:20:1 14:21:1 15:22:1</th>\n",
       "    </tr>\n",
       "  </thead>\n",
       "  <tbody>\n",
       "    <tr>\n",
       "      <th>0</th>\n",
       "      <td>0 2:1:1 7:2:1 3:3:1 4:4:1 4:5:1 4:6:1 5:7:1 5:...</td>\n",
       "    </tr>\n",
       "    <tr>\n",
       "      <th>1</th>\n",
       "      <td>0 2:1:1 7:2:1 3:3:1 4:4:1 4:5:1 4:6:1 5:7:1 5:...</td>\n",
       "    </tr>\n",
       "    <tr>\n",
       "      <th>2</th>\n",
       "      <td>0 2:1:1 7:2:1 3:3:1 4:4:1 4:5:1 4:6:1 5:7:1 5:...</td>\n",
       "    </tr>\n",
       "    <tr>\n",
       "      <th>3</th>\n",
       "      <td>0 2:1:1 7:2:1 3:32:1 4:33:1 4:34:1 4:35:1 5:7:...</td>\n",
       "    </tr>\n",
       "    <tr>\n",
       "      <th>4</th>\n",
       "      <td>0 2:1:1 7:2:1 3:3:1 4:41:1 4:42:1 4:43:1 5:7:1...</td>\n",
       "    </tr>\n",
       "  </tbody>\n",
       "</table>\n",
       "</div>"
      ],
      "text/plain": [
       "  0 2:1:1 7:2:1 3:3:1 4:4:1 4:5:1 4:6:1 5:7:1 5:8:1 5:9:1 6:10:1 6:11:1 6:12:1 6:13:1 6:14:1 8:15:1 9:16:1 10:17:1 11:18:1 12:19:1 13:20:1 14:21:1 15:22:1\n",
       "0  0 2:1:1 7:2:1 3:3:1 4:4:1 4:5:1 4:6:1 5:7:1 5:...                                                                                                      \n",
       "1  0 2:1:1 7:2:1 3:3:1 4:4:1 4:5:1 4:6:1 5:7:1 5:...                                                                                                      \n",
       "2  0 2:1:1 7:2:1 3:3:1 4:4:1 4:5:1 4:6:1 5:7:1 5:...                                                                                                      \n",
       "3  0 2:1:1 7:2:1 3:32:1 4:33:1 4:34:1 4:35:1 5:7:...                                                                                                      \n",
       "4  0 2:1:1 7:2:1 3:3:1 4:41:1 4:42:1 4:43:1 5:7:1...                                                                                                      "
      ]
     },
     "execution_count": 7,
     "metadata": {},
     "output_type": "execute_result"
    }
   ],
   "source": [
    "# read data\n",
    "data = pd.read_csv('test_ffm.txt')\n",
    "data.head(5)"
   ]
  },
  {
   "cell_type": "markdown",
   "metadata": {},
   "source": [
    "# 2.Package\n",
    "## xlearn\n",
    "可支持ffm«LR和FM"
   ]
  },
  {
   "cell_type": "code",
   "execution_count": 12,
   "metadata": {},
   "outputs": [],
   "source": [
    "import xlearn as xl\n",
    "ffm_model = xl.create_ffm()\n",
    "# 训练集\n",
    "ffm_model.setTrain('test_ffm.txt')"
   ]
  },
  {
   "cell_type": "code",
   "execution_count": 16,
   "metadata": {},
   "outputs": [],
   "source": [
    "# 设置参数\n",
    "param = {'task':'binary','lr':0.2,'lambda':0.002}"
   ]
  },
  {
   "cell_type": "code",
   "execution_count": 17,
   "metadata": {},
   "outputs": [],
   "source": [
    "# 设置不同的评价指标\n",
    "# 分类问题：acc(Accuracy);prec(precision);f1(f1 score);auc(AUC score)\n",
    "param1 = {'task':'binary','lr':0.2,'lambda':0.002,'metric':'rmse'}\n",
    "# 回归问题：mae,mape,rmsd(RMSE)\n",
    "param2 = {'task':'binary','lr':0.2,'lambda':0.002, 'metric':'rmse'}"
   ]
  },
  {
   "cell_type": "code",
   "execution_count": 18,
   "metadata": {},
   "outputs": [
    {
     "ename": "KeyboardInterrupt",
     "evalue": "",
     "output_type": "error",
     "traceback": [
      "\u001b[0;31m---------------------------------------------------------------------------\u001b[0m",
      "\u001b[0;31mKeyboardInterrupt\u001b[0m                         Traceback (most recent call last)",
      "\u001b[0;32m<ipython-input-18-5d704dd0b362>\u001b[0m in \u001b[0;36m<module>\u001b[0;34m()\u001b[0m\n\u001b[1;32m      1\u001b[0m \u001b[0;31m# 训练模型\u001b[0m\u001b[0;34m\u001b[0m\u001b[0;34m\u001b[0m\u001b[0m\n\u001b[0;32m----> 2\u001b[0;31m \u001b[0mffm_model\u001b[0m\u001b[0;34m.\u001b[0m\u001b[0mfit\u001b[0m\u001b[0;34m(\u001b[0m\u001b[0mparam\u001b[0m\u001b[0;34m,\u001b[0m \u001b[0;34m\"model.out\"\u001b[0m\u001b[0;34m)\u001b[0m\u001b[0;34m\u001b[0m\u001b[0m\n\u001b[0m",
      "\u001b[0;32m~/anaconda3/lib/python3.6/site-packages/xlearn/xlearn.py\u001b[0m in \u001b[0;36mfit\u001b[0;34m(self, param, model_path)\u001b[0m\n\u001b[1;32m    197\u001b[0m         \"\"\"\n\u001b[1;32m    198\u001b[0m         \u001b[0mself\u001b[0m\u001b[0;34m.\u001b[0m\u001b[0m_set_Param\u001b[0m\u001b[0;34m(\u001b[0m\u001b[0mparam\u001b[0m\u001b[0;34m)\u001b[0m\u001b[0;34m\u001b[0m\u001b[0m\n\u001b[0;32m--> 199\u001b[0;31m         \u001b[0m_check_call\u001b[0m\u001b[0;34m(\u001b[0m\u001b[0m_LIB\u001b[0m\u001b[0;34m.\u001b[0m\u001b[0mXLearnFit\u001b[0m\u001b[0;34m(\u001b[0m\u001b[0mctypes\u001b[0m\u001b[0;34m.\u001b[0m\u001b[0mbyref\u001b[0m\u001b[0;34m(\u001b[0m\u001b[0mself\u001b[0m\u001b[0;34m.\u001b[0m\u001b[0mhandle\u001b[0m\u001b[0;34m)\u001b[0m\u001b[0;34m,\u001b[0m \u001b[0mc_str\u001b[0m\u001b[0;34m(\u001b[0m\u001b[0mmodel_path\u001b[0m\u001b[0;34m)\u001b[0m\u001b[0;34m)\u001b[0m\u001b[0;34m)\u001b[0m\u001b[0;34m\u001b[0m\u001b[0m\n\u001b[0m\u001b[1;32m    200\u001b[0m \u001b[0;34m\u001b[0m\u001b[0m\n\u001b[1;32m    201\u001b[0m     \u001b[0;32mdef\u001b[0m \u001b[0mcv\u001b[0m\u001b[0;34m(\u001b[0m\u001b[0mself\u001b[0m\u001b[0;34m,\u001b[0m \u001b[0mparam\u001b[0m\u001b[0;34m)\u001b[0m\u001b[0;34m:\u001b[0m\u001b[0;34m\u001b[0m\u001b[0m\n",
      "\u001b[0;31mKeyboardInterrupt\u001b[0m: "
     ]
    }
   ],
   "source": [
    "# 训练模型\n",
    "ffm_model.fit(param, \"model.out\")"
   ]
  },
  {
   "cell_type": "code",
   "execution_count": null,
   "metadata": {},
   "outputs": [],
   "source": [
    "# 设置验证集\n",
    "ffm_model.setValidate(\"small_test.txt\")\n",
    "\n",
    "\n",
    "\n",
    "\n",
    "# 测试集\n",
    "ffm_model.setTest(\"small_test.txt\")\n",
    "# 输出样本预测概率，范围(-1,1)\n",
    "ffm_model.predict(\"model.out\",\"output.txt\")\n",
    "\n",
    "# 设置预测概率范围为(0,1)\n",
    "ffm_model.setSigmoid()\n",
    "ffm_model.predict(\"model.out\",\"output.txt\")\n",
    "\n",
    "# 转化为二分类(0,1)，没有阈值吗？？？\n",
    "ffm_model.setSign()\n",
    "ffm_model.predict(\"model.out\",\"output.txt\")\n",
    "\n",
    "# 模型保存为txt格式，\n",
    "ffm_model.setTXTModel(\"model.txt\")"
   ]
  }
 ],
 "metadata": {
  "kernelspec": {
   "display_name": "Python 3",
   "language": "python",
   "name": "python3"
  },
  "language_info": {
   "codemirror_mode": {
    "name": "ipython",
    "version": 3
   },
   "file_extension": ".py",
   "mimetype": "text/x-python",
   "name": "python",
   "nbconvert_exporter": "python",
   "pygments_lexer": "ipython3",
   "version": "3.6.5"
  }
 },
 "nbformat": 4,
 "nbformat_minor": 2
}
