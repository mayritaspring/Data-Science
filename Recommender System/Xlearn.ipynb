{
 "cells": [
  {
   "cell_type": "markdown",
   "metadata": {},
   "source": [
    "# Scikit-learn API for xLearn"
   ]
  },
  {
   "cell_type": "markdown",
   "metadata": {},
   "source": [
    "## 1. FM"
   ]
  },
  {
   "cell_type": "code",
   "execution_count": 1,
   "metadata": {},
   "outputs": [],
   "source": [
    "import numpy as np\n",
    "import xlearn as xl\n",
    "from sklearn.datasets import load_wine\n",
    "from sklearn.preprocessing import StandardScaler\n",
    "from sklearn.model_selection import train_test_split"
   ]
  },
  {
   "cell_type": "code",
   "execution_count": 2,
   "metadata": {},
   "outputs": [],
   "source": [
    "# Load dataset\n",
    "wine_data = load_wine()\n",
    "X = wine_data['data']\n",
    "y = (wine_data['target'] == 1)\n",
    "\n",
    "X_train,    \\\n",
    "X_val,      \\\n",
    "y_train,    \\\n",
    "y_val = train_test_split(X, y, test_size=0.2, random_state=0)\n",
    "\n",
    "# Standardize input\n",
    "scaler = StandardScaler()\n",
    "X_train = scaler.fit_transform(X_train)\n",
    "X_val = scaler.transform(X_val)"
   ]
  },
  {
   "cell_type": "code",
   "execution_count": 3,
   "metadata": {},
   "outputs": [
    {
     "name": "stdout",
     "output_type": "stream",
     "text": [
      "(array([-0.75535  , -2.25687  , -1.07267  , -1.25076  ,  0.866634 ,\n",
      "       -0.417836 , -0.142378 ,  0.0926271,  0.0146115,  0.551051 ,\n",
      "       -2.19609  ,  1.16581  ,  0.456869 , -2.04465  ]), array([[ 5.52329e-05,  7.32132e-05,  7.76984e-03,  9.70645e-03],\n",
      "       [ 1.49440e-02,  5.27875e-03,  8.63731e-03,  7.81847e-03],\n",
      "       [ 4.01652e-03,  9.82996e-03,  1.90508e-03,  7.42801e-03],\n",
      "       [ 7.65485e-03,  1.13894e-02,  7.19751e-03,  7.48228e-03],\n",
      "       [ 1.06323e-02,  1.21860e-02,  9.20925e-03,  1.17253e-02],\n",
      "       [ 3.27825e-03,  3.96365e-03,  1.09761e-02,  6.63039e-03],\n",
      "       [ 1.12452e-02,  1.01429e-02,  1.56389e-03,  8.79840e-03],\n",
      "       [ 1.20352e-02,  5.11132e-03,  1.17322e-02,  6.49371e-03],\n",
      "       [ 3.58344e-03,  5.51422e-03,  4.32805e-03,  8.53096e-03],\n",
      "       [ 9.44184e-03,  8.48235e-03,  8.43936e-03,  3.37314e-03],\n",
      "       [ 5.91603e-03,  2.25785e-03,  6.22225e-03,  7.84393e-03],\n",
      "       [ 4.85971e-03,  6.66072e-03, -5.69436e-04, -1.32506e-03],\n",
      "       [ 3.44607e-03,  9.26170e-03,  2.24573e-03,  1.79237e-03]]))\n"
     ]
    }
   ],
   "source": [
    "# param:\n",
    "#  0. binary classification\n",
    "#  1. model scale: 0.1\n",
    "#  2. epoch number: 10 (auto early-stop)\n",
    "#  3. number of latent factor: 4\n",
    "#  4. learning rate: 0.1\n",
    "#  5. regular lambda: 0.01\n",
    "#  6. use sgd optimization method\n",
    "#  7. evaluation metric: accuarcy\n",
    "fm_model = xl.FMModel(task='binary', init=0.1, \n",
    "                      epoch=10, k=4, lr=0.1, \n",
    "                      reg_lambda=0.01, opt='sgd', \n",
    "                      metric='acc')\n",
    "# Start to train\n",
    "fm_model.fit(X_train, \n",
    "             y_train, \n",
    "             eval_set=[X_val, y_val])\n",
    "\n",
    "# print model weights\n",
    "print(fm_model.weights)\n",
    "\n",
    "# Generate predictions\n",
    "y_pred = fm_model.predict(X_val)"
   ]
  },
  {
   "cell_type": "code",
   "execution_count": 6,
   "metadata": {},
   "outputs": [
    {
     "data": {
      "text/plain": [
       "array([0.0815506, 0.0852567, 0.822443 , 0.111794 , 0.47848  , 0.467585 ,\n",
       "       0.0440372, 0.163691 , 0.914426 , 0.888276 , 0.121464 , 0.154142 ,\n",
       "       0.0379011, 0.718097 , 0.0516162, 0.95089  , 0.0938677, 0.039652 ,\n",
       "       0.519293 , 0.114238 , 0.691073 , 0.163509 , 0.189456 , 0.900392 ,\n",
       "       0.582524 , 0.907366 , 0.811249 , 0.938447 , 0.557252 , 0.0663241,\n",
       "       0.0684646, 0.0768457, 0.654635 , 0.028351 , 0.0831506, 0.341015 ])"
      ]
     },
     "execution_count": 6,
     "metadata": {},
     "output_type": "execute_result"
    }
   ],
   "source": [
    "y_pred"
   ]
  },
  {
   "cell_type": "markdown",
   "metadata": {},
   "source": [
    "# 2. FFM"
   ]
  },
  {
   "cell_type": "code",
   "execution_count": 10,
   "metadata": {},
   "outputs": [],
   "source": [
    "import pandas as pd\n",
    "import warnings\n",
    "warnings.filterwarnings(\"ignore\")"
   ]
  },
  {
   "cell_type": "code",
   "execution_count": 11,
   "metadata": {},
   "outputs": [],
   "source": [
    "# set path\n",
    "default_path = \"/Users/mayritaspring/Desktop/Github/Data/Recommender System_GBDT+FM\"\n",
    "import os\n",
    "os.chdir(default_path)"
   ]
  },
  {
   "cell_type": "code",
   "execution_count": 12,
   "metadata": {},
   "outputs": [],
   "source": [
    "train_data = pd.read_csv('./raw/train_tiny.txt')\n",
    "test_data = pd.read_csv('./raw/test_tiny.txt')"
   ]
  },
  {
   "cell_type": "code",
   "execution_count": 13,
   "metadata": {},
   "outputs": [],
   "source": [
    "#Training Data\n",
    "num_col_tr = train_data.iloc[:,2:15]\n",
    "cat_col_tr = train_data.iloc[:,15:41]\n",
    "\n",
    "num_col_tr = pd.DataFrame(num_col_tr.fillna(num_col_tr.mean()))\n",
    "cat_col_tr = pd.DataFrame(cat_col_tr.fillna(0))\n",
    "all_col_tr = pd.concat([num_col_tr,cat_col_tr],axis=1)\n",
    "\n",
    "#Testing Data\n",
    "num_col_te = test_data.iloc[:,2:15]\n",
    "cat_col_te = test_data.iloc[:,15:41]\n",
    "\n",
    "num_col_te = pd.DataFrame(num_col_te.fillna(num_col_tr.mean()))\n",
    "cat_col_te = pd.DataFrame(cat_col_te.fillna(0))\n",
    "all_col_te = pd.concat([num_col_te,cat_col_te],axis=1)"
   ]
  },
  {
   "cell_type": "code",
   "execution_count": 14,
   "metadata": {},
   "outputs": [],
   "source": [
    "# Based on Kaggle kernel by Scirpus\n",
    "def convert_to_ffm(df,type,numerics,categories,features):\n",
    "    currentcode = len(numerics)\n",
    "    catdict = {}\n",
    "    catcodes = {}\n",
    "    # Flagging categorical and numerical fields\n",
    "    for x in numerics:\n",
    "         catdict[x] = 0\n",
    "    for x in categories:\n",
    "         catdict[x] = 1\n",
    "    \n",
    "    nrows = df.shape[0]\n",
    "    ncolumns = len(features)\n",
    "    with open(str(type) + \"_ffm.txt\", \"w\") as text_file:\n",
    "# Looping over rows to convert each row to libffm format\n",
    "        for n,r in enumerate(range(nrows)):\n",
    "            datastring = \"\"\n",
    "            datarow = df.iloc[r].to_dict()\n",
    "            datastring += str(int(datarow['Label']))\n",
    "             # For numerical fields, we are creating a dummy field here\n",
    "            for i, x in enumerate(catdict.keys()):\n",
    "                if(catdict[x]==0):\n",
    "                    datastring = datastring + \" \"+str(i)+\":\"+ str(i)+\":\"+ str(datarow[x])\n",
    "                else:\n",
    "            # For a new field appearing in a training example\n",
    "                    if(x not in catcodes):\n",
    "                        catcodes[x] = {}\n",
    "                        currentcode +=1\n",
    "                        catcodes[x][datarow[x]] = currentcode #encoding the feature\n",
    "            # For already encoded fields\n",
    "                    elif(datarow[x] not in catcodes[x]):\n",
    "                        currentcode +=1\n",
    "                        catcodes[x][datarow[x]] = currentcode #encoding the feature\n",
    "                    code = catcodes[x][datarow[x]]\n",
    "                    datastring = datastring + \" \"+str(i)+\":\"+ str(int(code))+\":1\"\n",
    "\n",
    "            datastring += '\\n'\n",
    "            text_file.write(datastring)"
   ]
  },
  {
   "cell_type": "code",
   "execution_count": null,
   "metadata": {},
   "outputs": [],
   "source": [
    "train_data_Label = pd.concat([train_data.Label,all_col_tr],axis=1)\n",
    "convert_to_ffm(train_data_Label,'Train',list(num_col_tr),list(cat_col_tr),list(all_col_tr))\n",
    "\n",
    "test_data_Label = pd.concat([test_data.Label,all_col_te],axis=1)\n",
    "convert_to_ffm(test_data_Label,'Test',list(num_col_te),list(cat_col_te),list(all_col_te))"
   ]
  },
  {
   "cell_type": "code",
   "execution_count": 7,
   "metadata": {},
   "outputs": [],
   "source": [
    "import numpy as np\n",
    "import xlearn as xl"
   ]
  },
  {
   "cell_type": "code",
   "execution_count": 15,
   "metadata": {},
   "outputs": [
    {
     "name": "stdout",
     "output_type": "stream",
     "text": [
      "(array([-1.27798e+00,  1.72038e-01,  1.23415e-01, ..., -7.77940e-07,\n",
      "       -7.77940e-07, -7.77940e-07]), array([[1.12387e-06, 4.25162e-03, 3.00676e-02, ..., 4.52292e-03,\n",
      "        5.21515e-04, 4.47602e-03],\n",
      "       [1.28179e-03, 2.09363e-03, 2.93630e-03, ..., 2.91898e-04,\n",
      "        1.64320e-03, 3.05204e-03],\n",
      "       [4.99799e-03, 1.25453e-03, 2.20640e-03, ..., 1.82993e-03,\n",
      "        1.20575e-03, 3.27071e-03],\n",
      "       ...,\n",
      "       [4.23189e-02, 2.83115e-02, 1.64207e-02, ..., 7.66672e-03,\n",
      "        2.45897e-02, 4.39561e-02],\n",
      "       [5.07423e-03, 3.24885e-02, 3.33328e-02, ..., 1.43414e-02,\n",
      "        6.79581e-03, 3.42888e-02],\n",
      "       [4.36742e-02, 3.02836e-02, 2.32984e-02, ..., 6.17970e-03,\n",
      "        8.37131e-03, 2.66418e-02]]))\n"
     ]
    }
   ],
   "source": [
    "# param:\n",
    "#  0. binary classification\n",
    "#  1. learning rate: 0.2\n",
    "#  2. epoch number: 10 (auto early-stop)\n",
    "#  3. evaluation metric: accuarcy\n",
    "#  4. use sgd optimization method\n",
    "ffm_model = xl.FFMModel(task='binary', \n",
    "                        lr=0.2, \n",
    "                        epoch=10, \n",
    "                        reg_lambda=0.002,\n",
    "                        metric='acc')\n",
    "# Start to train\n",
    "# Directly use string to specify data source\n",
    "ffm_model.fit(\"./data/Train_ffm.txt\", \n",
    "              eval_set=\"./data/Test_ffm.txt\")\n",
    "\n",
    "# print model weights\n",
    "print(ffm_model.weights)\n",
    "\n",
    "# Generate predictions\n",
    "y_pred = ffm_model.predict(\"./data/Test_ffm.txt\")\n"
   ]
  },
  {
   "cell_type": "markdown",
   "metadata": {},
   "source": [
    "# 3. LR"
   ]
  },
  {
   "cell_type": "code",
   "execution_count": 17,
   "metadata": {},
   "outputs": [],
   "source": [
    "import numpy as np\n",
    "import xlearn as xl\n",
    "from sklearn.datasets import load_iris\n",
    "from sklearn.model_selection import train_test_split"
   ]
  },
  {
   "cell_type": "code",
   "execution_count": 18,
   "metadata": {},
   "outputs": [],
   "source": [
    "# Load dataset\n",
    "iris_data = load_iris()\n",
    "X = iris_data['data']\n",
    "y = (iris_data['target'] == 2)\n",
    "\n",
    "X_train,   \\\n",
    "X_val,     \\\n",
    "y_train,   \\\n",
    "y_val = train_test_split(X, y, test_size=0.3, random_state=0)"
   ]
  },
  {
   "cell_type": "code",
   "execution_count": 19,
   "metadata": {},
   "outputs": [
    {
     "name": "stdout",
     "output_type": "stream",
     "text": [
      "(array([-0.679804 , -0.0963338, -0.264284 ,  0.490402 ,  0.214548 ]), None)\n"
     ]
    }
   ],
   "source": [
    "# param:\n",
    "#  0. binary classification\n",
    "#  1. model scale: 0.1\n",
    "#  2. epoch number: 10 (auto early-stop)\n",
    "#  3. learning rate: 0.1\n",
    "#  4. regular lambda: 1.0\n",
    "#  5. use sgd optimization method\n",
    "linear_model = xl.LRModel(task='binary', init=0.1, \n",
    "                          epoch=10, lr=0.1, \n",
    "                          reg_lambda=1.0, opt='sgd')\n",
    "\n",
    "# Start to train\n",
    "linear_model.fit(X_train, y_train, \n",
    "                 eval_set=[X_val, y_val], \n",
    "                 is_lock_free=False)\n",
    "\n",
    "# print model weights\n",
    "print(linear_model.weights)\n",
    "\n",
    "# Generate predictions\n",
    "y_pred = linear_model.predict(X_val)"
   ]
  },
  {
   "cell_type": "code",
   "execution_count": null,
   "metadata": {},
   "outputs": [],
   "source": []
  }
 ],
 "metadata": {
  "kernelspec": {
   "display_name": "Python 3",
   "language": "python",
   "name": "python3"
  },
  "language_info": {
   "codemirror_mode": {
    "name": "ipython",
    "version": 3
   },
   "file_extension": ".py",
   "mimetype": "text/x-python",
   "name": "python",
   "nbconvert_exporter": "python",
   "pygments_lexer": "ipython3",
   "version": "3.6.5"
  }
 },
 "nbformat": 4,
 "nbformat_minor": 2
}
