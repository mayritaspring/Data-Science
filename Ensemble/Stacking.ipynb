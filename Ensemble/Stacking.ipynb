{
 "cells": [
  {
   "cell_type": "markdown",
   "metadata": {},
   "source": [
    "# Stacking([Stacking Classifier](https://rasbt.github.io/mlxtend/user_guide/classifier/StackingClassifier/#example-1-simple-stacked-classification))"
   ]
  },
  {
   "cell_type": "markdown",
   "metadata": {},
   "source": [
    "## Load Package"
   ]
  },
  {
   "cell_type": "code",
   "execution_count": 1,
   "metadata": {},
   "outputs": [],
   "source": [
    "import pandas as pd\n",
    "from xgboost import XGBClassifier\n",
    "from sklearn.ensemble import ExtraTreesClassifier, RandomForestClassifier\n",
    "from sklearn.linear_model import LogisticRegression\n",
    "from mlxtend.classifier import StackingCVClassifier\n",
    "from mlxtend.classifier import StackingClassifier\n",
    "from sklearn import model_selection\n",
    "import warnings\n",
    "warnings.filterwarnings(\"ignore\")"
   ]
  },
  {
   "cell_type": "code",
   "execution_count": 25,
   "metadata": {},
   "outputs": [],
   "source": [
    "#one hot encoder\n",
    "from  sklearn  import  metrics\n",
    "def one_hot_encoder(df, label, nan_as_category = True):\n",
    "    original_columns = list(df.columns)\n",
    "    categorical_columns = [col for col in df.columns if col != label and (df[col].dtype == 'object')]\n",
    "    #categorical_columns = [col for col in df.columns if col != label and (df[col].dtype == 'object' or len(df[col].unique().tolist()) < 20)]\n",
    "    df = pd.get_dummies(df, columns= categorical_columns, dummy_na= nan_as_category)\n",
    "    #replace NAs with mean\n",
    "    df = df.fillna(df.mean())\n",
    "    new_columns = [c for c in df.columns if c not in original_columns]\n",
    "    return df, new_columns, categorical_columns\n",
    "\n",
    "# Split to feature and label \n",
    "def split_train_test(df, label,key = None, seed = 7, test_size = 0.3):\n",
    "    from sklearn import cross_validation\n",
    "    \n",
    "    #setting\n",
    "    seed = seed\n",
    "    test_size = test_size\n",
    "    \n",
    "    #give label y\n",
    "    y = df[label]\n",
    "    \n",
    "    #give feature X\n",
    "    try:\n",
    "        cols = [col for col in df.columns if col not in [label, key]]\n",
    "        X = one_hot_encoder(df = df[cols], label = label)[0]\n",
    "        categorical_columns = one_hot_encoder(df = df[cols], label = label)[2]\n",
    "    except:\n",
    "        X = one_hot_encoder(df = df.loc[:, df.columns != label], label = label)[0]\n",
    "        categorical_columns = one_hot_encoder(df = df.loc[:, df.columns != label], label = label)[2]\n",
    "    X_train, X_test, y_train, y_test = cross_validation.train_test_split(X, y, test_size=test_size, random_state=seed)\n",
    "    return X_train, X_test, y_train, y_test, categorical_columns\n",
    "\n",
    "# Function for Measure Performance\n",
    "def measure_performance(X,y,clf, show_accuracy=False, show_classification_report=False, show_confusion_matrix=False, show_roc_auc = False, show_mae = False):\n",
    "    y_pred = clf.predict(X)\n",
    "    if show_accuracy:\n",
    "        print (\"Accuracy:{0:.3f}\".format(metrics.accuracy_score(y,y_pred))),\"\\n\"\n",
    "\n",
    "    if show_classification_report:\n",
    "        print(\"Classification report\")\n",
    "        print(metrics.classification_report(y,y_pred)),\"\\n\"\n",
    "        \n",
    "    if show_confusion_matrix:\n",
    "        print(\"Confusion matrix\")\n",
    "        print(metrics.confusion_matrix(y,y_pred)),\"\\n\"  \n",
    "        \n",
    "    if show_roc_auc:\n",
    "        print(\"ROC AUC Score:{0:.3f}\".format(metrics.roc_auc_score(y,clf.predict_proba(X)[:,1]))),\"\\n\"\n",
    "        \n",
    "    if show_mae:\n",
    "        print(\"Mean Absolute Error:{0:.3f}\".format(metrics.mean_absolute_error(y, y_pred, multioutput='raw_values')[0])),\"\\n\""
   ]
  },
  {
   "cell_type": "markdown",
   "metadata": {},
   "source": [
    "## Load Iris Dataset"
   ]
  },
  {
   "cell_type": "code",
   "execution_count": 7,
   "metadata": {},
   "outputs": [],
   "source": [
    "#load iris data\n",
    "from sklearn import datasets\n",
    "iris = datasets.load_iris()\n",
    "X, y = iris.data[:, 1:3], iris.target"
   ]
  },
  {
   "cell_type": "code",
   "execution_count": 8,
   "metadata": {},
   "outputs": [
    {
     "name": "stdout",
     "output_type": "stream",
     "text": [
      "Accuracy: 0.95 (+/- 0.02) [XGBoost]\n",
      "Accuracy: 0.92 (+/- 0.03) [Random Forest]\n",
      "Accuracy: 0.93 (+/- 0.02) [Extra Tree]\n",
      "Fitting 3 classifiers...\n",
      "Fitting classifier1: xgbclassifier (1/3)\n",
      "Fitting classifier2: randomforestclassifier (2/3)\n",
      "Fitting classifier3: extratreesclassifier (3/3)\n",
      "Fitting 3 classifiers...\n",
      "Fitting classifier1: xgbclassifier (1/3)\n",
      "Fitting classifier2: randomforestclassifier (2/3)\n",
      "Fitting classifier3: extratreesclassifier (3/3)\n",
      "Fitting 3 classifiers...\n",
      "Fitting classifier1: xgbclassifier (1/3)\n",
      "Fitting classifier2: randomforestclassifier (2/3)\n",
      "Fitting classifier3: extratreesclassifier (3/3)\n",
      "Accuracy: 0.96 (+/- 0.03) [StackingClassifier]\n"
     ]
    }
   ],
   "source": [
    "clf1 = XGBClassifier()\n",
    "clf2 = RandomForestClassifier()\n",
    "clf3 = ExtraTreesClassifier()\n",
    "lr = LogisticRegression() \n",
    "sclf = StackingClassifier(classifiers=[clf1, clf2, clf3], meta_classifier=lr, verbose= 1)\n",
    "\n",
    "for clf, label in zip([clf1, clf2, clf3, sclf], \n",
    "                      ['XGBoost', \n",
    "                       'Random Forest', \n",
    "                       'Extra Tree',\n",
    "                       'StackingClassifier']):\n",
    "    scores = model_selection.cross_val_score(clf, X, y, cv=3, scoring='accuracy')\n",
    "    print(\"Accuracy: %0.2f (+/- %0.2f) [%s]\" \n",
    "          % (scores.mean(), scores.std(), label))"
   ]
  },
  {
   "cell_type": "code",
   "execution_count": 12,
   "metadata": {},
   "outputs": [
    {
     "name": "stdout",
     "output_type": "stream",
     "text": [
      "Fitting 3 classifiers...\n",
      "Fitting classifier1: xgbclassifier (1/3)\n",
      "Fitting classifier2: randomforestclassifier (2/3)\n",
      "Fitting classifier3: extratreesclassifier (3/3)\n"
     ]
    },
    {
     "data": {
      "text/plain": [
       "StackingClassifier(average_probas=False,\n",
       "          classifiers=[XGBClassifier(base_score=0.5, booster='gbtree', colsample_bylevel=1,\n",
       "       colsample_bytree=1, gamma=0, learning_rate=0.1, max_delta_step=0,\n",
       "       max_depth=3, min_child_weight=1, missing=None, n_estimators=100,\n",
       "       n_jobs=1, nthread=None, objective='binary:logistic', random_state=...stimators=10, n_jobs=1,\n",
       "           oob_score=False, random_state=None, verbose=0, warm_start=False)],\n",
       "          meta_classifier=LogisticRegression(C=1.0, class_weight=None, dual=False, fit_intercept=True,\n",
       "          intercept_scaling=1, max_iter=100, multi_class='ovr', n_jobs=1,\n",
       "          penalty='l2', random_state=None, solver='liblinear', tol=0.0001,\n",
       "          verbose=0, warm_start=False),\n",
       "          store_train_meta_features=False, use_clones=True,\n",
       "          use_features_in_secondary=False, use_probas=False, verbose=1)"
      ]
     },
     "execution_count": 12,
     "metadata": {},
     "output_type": "execute_result"
    }
   ],
   "source": [
    "sclf.fit(X,y)"
   ]
  },
  {
   "cell_type": "markdown",
   "metadata": {},
   "source": [
    "## Load Home Credit Dataset"
   ]
  },
  {
   "cell_type": "code",
   "execution_count": 143,
   "metadata": {},
   "outputs": [],
   "source": [
    "# read data\n",
    "default_path = \"/Users/mayritaspring/Desktop/Github/Home-Credit-Default-Risk/\"\n",
    "import os\n",
    "os.chdir(default_path)\n",
    "\n",
    "#use function split_train_test can help to 1.set label and dataset 2.One-hot encoding\n",
    "#training\n",
    "application_train = pd.read_csv('../Kaggle data/application_train.csv')\n",
    "application_train = one_hot_encoder(df = application_train, label = 'TARGET')[0]\n",
    "\n",
    "#testing\n",
    "application_test = pd.read_csv('../Kaggle data/application_test.csv')\n",
    "application_test = one_hot_encoder(df = application_test, label = 'TARGET')[0]\n",
    "\n",
    "#combine training and testing to resolve one hot enscoding problem\n",
    "application_df = one_hot_encoder(df = pd.concat([application_train,application_test],keys=[0,1]), label = 'TARGET')[0]"
   ]
  },
  {
   "cell_type": "code",
   "execution_count": 144,
   "metadata": {
    "scrolled": true
   },
   "outputs": [],
   "source": [
    "application_train, application_test = application_df.xs(0), application_df.xs(1)\n",
    "X= application_train.drop('TARGET', axis=1)\n",
    "y= application_train.TARGET"
   ]
  },
  {
   "cell_type": "code",
   "execution_count": 145,
   "metadata": {},
   "outputs": [],
   "source": [
    "from sklearn import cross_validation\n",
    "seed = 7\n",
    "test_size = 0.3\n",
    "X_train, X_test, y_train, y_test = cross_validation.train_test_split(X, y, test_size=test_size, random_state=seed)"
   ]
  },
  {
   "cell_type": "code",
   "execution_count": 147,
   "metadata": {},
   "outputs": [
    {
     "name": "stdout",
     "output_type": "stream",
     "text": [
      "Accuracy: 0.92 (+/- 0.00) [XGBoost]\n",
      "Accuracy: 0.92 (+/- 0.00) [Random Forest]\n",
      "Accuracy: 0.92 (+/- 0.00) [Extra Tree]\n",
      "Fitting 3 classifiers...\n",
      "Fitting classifier1: xgbclassifier (1/3)\n",
      "Fitting classifier2: randomforestclassifier (2/3)\n",
      "Fitting classifier3: extratreesclassifier (3/3)\n",
      "Fitting 3 classifiers...\n",
      "Fitting classifier1: xgbclassifier (1/3)\n",
      "Fitting classifier2: randomforestclassifier (2/3)\n",
      "Fitting classifier3: extratreesclassifier (3/3)\n",
      "Fitting 3 classifiers...\n",
      "Fitting classifier1: xgbclassifier (1/3)\n",
      "Fitting classifier2: randomforestclassifier (2/3)\n",
      "Fitting classifier3: extratreesclassifier (3/3)\n",
      "Accuracy: 0.92 (+/- 0.00) [StackingClassifier]\n"
     ]
    }
   ],
   "source": [
    "clf1 = XGBClassifier()\n",
    "clf2 = RandomForestClassifier()\n",
    "clf3 = ExtraTreesClassifier()\n",
    "lr = LogisticRegression() \n",
    "sclf = StackingClassifier(classifiers=[clf1, clf2, clf3], meta_classifier=lr, verbose= 1)\n",
    "\n",
    "for clf, label in zip([clf1, clf2, clf3, sclf], \n",
    "                      ['XGBoost', \n",
    "                       'Random Forest', \n",
    "                       'Extra Tree',\n",
    "                       'StackingClassifier']):\n",
    "    scores = model_selection.cross_val_score(clf, X_train, y_train, cv=3, scoring='accuracy')\n",
    "    print(\"Accuracy: %0.2f (+/- %0.2f) [%s]\" \n",
    "          % (scores.mean(), scores.std(), label))"
   ]
  },
  {
   "cell_type": "code",
   "execution_count": 148,
   "metadata": {},
   "outputs": [
    {
     "name": "stdout",
     "output_type": "stream",
     "text": [
      "Fitting 3 classifiers...\n",
      "Fitting classifier1: xgbclassifier (1/3)\n",
      "Fitting classifier2: randomforestclassifier (2/3)\n",
      "Fitting classifier3: extratreesclassifier (3/3)\n"
     ]
    },
    {
     "data": {
      "text/plain": [
       "StackingClassifier(average_probas=False,\n",
       "          classifiers=[XGBClassifier(base_score=0.5, booster='gbtree', colsample_bylevel=1,\n",
       "       colsample_bytree=1, gamma=0, learning_rate=0.1, max_delta_step=0,\n",
       "       max_depth=3, min_child_weight=1, missing=None, n_estimators=100,\n",
       "       n_jobs=1, nthread=None, objective='binary:logistic', random_state=...stimators=10, n_jobs=1,\n",
       "           oob_score=False, random_state=None, verbose=0, warm_start=False)],\n",
       "          meta_classifier=LogisticRegression(C=1.0, class_weight=None, dual=False, fit_intercept=True,\n",
       "          intercept_scaling=1, max_iter=100, multi_class='ovr', n_jobs=1,\n",
       "          penalty='l2', random_state=None, solver='liblinear', tol=0.0001,\n",
       "          verbose=0, warm_start=False),\n",
       "          store_train_meta_features=False, use_clones=True,\n",
       "          use_features_in_secondary=False, use_probas=False, verbose=1)"
      ]
     },
     "execution_count": 148,
     "metadata": {},
     "output_type": "execute_result"
    }
   ],
   "source": [
    "sclf.fit(X_train,y_train)"
   ]
  },
  {
   "cell_type": "code",
   "execution_count": 161,
   "metadata": {},
   "outputs": [
    {
     "name": "stdout",
     "output_type": "stream",
     "text": [
      "Accuracy:0.919\n",
      "Classification report\n",
      "             precision    recall  f1-score   support\n",
      "\n",
      "        0.0       0.92      1.00      0.96     84807\n",
      "        1.0       0.35      0.01      0.01      7447\n",
      "\n",
      "avg / total       0.87      0.92      0.88     92254\n",
      "\n",
      "Confusion matrix\n",
      "[[84715    92]\n",
      " [ 7398    49]]\n",
      "<function measure_performance at 0x109cae510>\n"
     ]
    }
   ],
   "source": [
    "measure_performance(X_test, y_test, sclf, show_accuracy=True, show_classification_report=True, show_confusion_matrix=True)\n",
    "print(measure_performance)"
   ]
  },
  {
   "cell_type": "code",
   "execution_count": 150,
   "metadata": {},
   "outputs": [],
   "source": [
    "test_df = application_test.drop('TARGET', axis=1)"
   ]
  },
  {
   "cell_type": "code",
   "execution_count": 157,
   "metadata": {},
   "outputs": [],
   "source": [
    "#Stacking\n",
    "out_stacking = pd.DataFrame({\"SK_ID_CURR\":test_df.SK_ID_CURR, \"TARGET\":sclf.predict_proba(test_df)[:,1]})\n",
    "out_stacking.to_csv(\"submissions_toy_stacking.csv\", index=False)"
   ]
  }
 ],
 "metadata": {
  "kernelspec": {
   "display_name": "Python 3",
   "language": "python",
   "name": "python3"
  },
  "language_info": {
   "codemirror_mode": {
    "name": "ipython",
    "version": 3
   },
   "file_extension": ".py",
   "mimetype": "text/x-python",
   "name": "python",
   "nbconvert_exporter": "python",
   "pygments_lexer": "ipython3",
   "version": "3.6.5"
  }
 },
 "nbformat": 4,
 "nbformat_minor": 2
}
