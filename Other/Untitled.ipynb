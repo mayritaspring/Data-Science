{
 "cells": [
  {
   "cell_type": "code",
   "execution_count": 10,
   "metadata": {},
   "outputs": [],
   "source": [
    "import io\n",
    "import os\n",
    "\n",
    "# Imports the Google Cloud client library\n",
    "from google.cloud import vision\n",
    "from google.cloud.vision import types\n"
   ]
  },
  {
   "cell_type": "code",
   "execution_count": 12,
   "metadata": {},
   "outputs": [
    {
     "name": "stdout",
     "output_type": "stream",
     "text": [
      "Collecting google.cloud\n",
      "  Using cached https://files.pythonhosted.org/packages/ba/b1/7c54d1950e7808df06642274e677dbcedba57f75307adf2e5ad8d39e5e0e/google_cloud-0.34.0-py2.py3-none-any.whl\n",
      "Installing collected packages: google.cloud\n",
      "Successfully installed google.cloud\n",
      "\u001b[33mTarget directory /Users/mayritaspring/anaconda3/lib/python3.6/site-packages/google_cloud-0.34.0.dist-info already exists. Specify --upgrade to force replacement.\u001b[0m\n"
     ]
    }
   ],
   "source": [
    "! pip install --target=/Users/mayritaspring/anaconda3/lib/python3.6/site-packages google.cloud"
   ]
  },
  {
   "cell_type": "code",
   "execution_count": 11,
   "metadata": {},
   "outputs": [
    {
     "name": "stdout",
     "output_type": "stream",
     "text": [
      "Collecting storage\n",
      "Collecting paramiko>=1.8.0 (from storage)\n",
      "  Using cached https://files.pythonhosted.org/packages/3e/db/cb7b6656e0e7387637ce850689084dc0b94b44df31cc52e5fc5c2c4fd2c1/paramiko-2.4.1-py2.py3-none-any.whl\n",
      "Collecting pynacl>=1.0.1 (from paramiko>=1.8.0->storage)\n",
      "  Using cached https://files.pythonhosted.org/packages/74/8e/a6c0d340972d9e2f1a405aaa3f2460950b4c0337f92db0291a4355974529/PyNaCl-1.2.1-cp36-cp36m-macosx_10_6_intel.whl\n",
      "Collecting bcrypt>=3.1.3 (from paramiko>=1.8.0->storage)\n",
      "  Using cached https://files.pythonhosted.org/packages/7e/59/d48fd712941da1a5d6490964a37bb3de2e526965b6766273f6a7049ee590/bcrypt-3.1.4-cp36-cp36m-macosx_10_6_intel.whl\n",
      "Collecting cryptography>=1.5 (from paramiko>=1.8.0->storage)\n",
      "  Using cached https://files.pythonhosted.org/packages/96/ba/15fa57d62f2c3eb907b50e7dd701181a47e3dce3fe365658f43ba677dd30/cryptography-2.3-cp34-abi3-macosx_10_6_intel.whl\n",
      "Collecting pyasn1>=0.1.7 (from paramiko>=1.8.0->storage)\n",
      "  Using cached https://files.pythonhosted.org/packages/d1/a1/7790cc85db38daa874f6a2e6308131b9953feb1367f2ae2d1123bb93a9f5/pyasn1-0.4.4-py2.py3-none-any.whl\n",
      "Collecting cffi>=1.4.1 (from pynacl>=1.0.1->paramiko>=1.8.0->storage)\n",
      "  Using cached https://files.pythonhosted.org/packages/8e/be/40b1bc2c3221acdefeb9dab6773d43cda7543ed0d8c8df8768f05af2d01e/cffi-1.11.5-cp36-cp36m-macosx_10_6_intel.whl\n",
      "Collecting six (from pynacl>=1.0.1->paramiko>=1.8.0->storage)\n",
      "  Using cached https://files.pythonhosted.org/packages/67/4b/141a581104b1f6397bfa78ac9d43d8ad29a7ca43ea90a2d863fe3056e86a/six-1.11.0-py2.py3-none-any.whl\n",
      "Collecting idna>=2.1 (from cryptography>=1.5->paramiko>=1.8.0->storage)\n",
      "  Using cached https://files.pythonhosted.org/packages/4b/2a/0276479a4b3caeb8a8c1af2f8e4355746a97fab05a372e4a2c6a6b876165/idna-2.7-py2.py3-none-any.whl\n",
      "Collecting asn1crypto>=0.21.0 (from cryptography>=1.5->paramiko>=1.8.0->storage)\n",
      "  Using cached https://files.pythonhosted.org/packages/ea/cd/35485615f45f30a510576f1a56d1e0a7ad7bd8ab5ed7cdc600ef7cd06222/asn1crypto-0.24.0-py2.py3-none-any.whl\n",
      "Collecting pycparser (from cffi>=1.4.1->pynacl>=1.0.1->paramiko>=1.8.0->storage)\n",
      "Installing collected packages: pycparser, cffi, six, pynacl, bcrypt, idna, asn1crypto, cryptography, pyasn1, paramiko, storage\n",
      "Successfully installed asn1crypto-0.24.0 bcrypt-3.1.4 cffi-1.11.5 cryptography-2.3 idna-2.7 paramiko-2.4.1 pyasn1-0.4.4 pycparser-2.18 pynacl-1.2.1 six-1.11.0 storage-0.0.4.3\n",
      "\u001b[33mTarget directory /Users/mayritaspring/anaconda3/lib/python3.6/site-packages/paramiko already exists. Specify --upgrade to force replacement.\u001b[0m\n",
      "\u001b[33mTarget directory /Users/mayritaspring/anaconda3/lib/python3.6/site-packages/pyasn1 already exists. Specify --upgrade to force replacement.\u001b[0m\n",
      "\u001b[33mTarget directory /Users/mayritaspring/anaconda3/lib/python3.6/site-packages/idna-2.7.dist-info already exists. Specify --upgrade to force replacement.\u001b[0m\n",
      "\u001b[33mTarget directory /Users/mayritaspring/anaconda3/lib/python3.6/site-packages/pycparser-2.18.dist-info already exists. Specify --upgrade to force replacement.\u001b[0m\n",
      "\u001b[33mTarget directory /Users/mayritaspring/anaconda3/lib/python3.6/site-packages/pycparser already exists. Specify --upgrade to force replacement.\u001b[0m\n",
      "\u001b[33mTarget directory /Users/mayritaspring/anaconda3/lib/python3.6/site-packages/cryptography already exists. Specify --upgrade to force replacement.\u001b[0m\n",
      "\u001b[33mTarget directory /Users/mayritaspring/anaconda3/lib/python3.6/site-packages/paramiko-2.4.1.dist-info already exists. Specify --upgrade to force replacement.\u001b[0m\n",
      "\u001b[33mTarget directory /Users/mayritaspring/anaconda3/lib/python3.6/site-packages/bcrypt already exists. Specify --upgrade to force replacement.\u001b[0m\n",
      "\u001b[33mTarget directory /Users/mayritaspring/anaconda3/lib/python3.6/site-packages/cffi already exists. Specify --upgrade to force replacement.\u001b[0m\n",
      "\u001b[33mTarget directory /Users/mayritaspring/anaconda3/lib/python3.6/site-packages/pyasn1-0.4.4.dist-info already exists. Specify --upgrade to force replacement.\u001b[0m\n",
      "\u001b[33mTarget directory /Users/mayritaspring/anaconda3/lib/python3.6/site-packages/idna already exists. Specify --upgrade to force replacement.\u001b[0m\n",
      "\u001b[33mTarget directory /Users/mayritaspring/anaconda3/lib/python3.6/site-packages/bcrypt-3.1.4.dist-info already exists. Specify --upgrade to force replacement.\u001b[0m\n",
      "\u001b[33mTarget directory /Users/mayritaspring/anaconda3/lib/python3.6/site-packages/__pycache__ already exists. Specify --upgrade to force replacement.\u001b[0m\n",
      "\u001b[33mTarget directory /Users/mayritaspring/anaconda3/lib/python3.6/site-packages/_cffi_backend.cpython-36m-darwin.so already exists. Specify --upgrade to force replacement.\u001b[0m\n",
      "\u001b[33mTarget directory /Users/mayritaspring/anaconda3/lib/python3.6/site-packages/storage already exists. Specify --upgrade to force replacement.\u001b[0m\n",
      "\u001b[33mTarget directory /Users/mayritaspring/anaconda3/lib/python3.6/site-packages/PyNaCl-1.2.1.dist-info already exists. Specify --upgrade to force replacement.\u001b[0m\n",
      "\u001b[33mTarget directory /Users/mayritaspring/anaconda3/lib/python3.6/site-packages/storage-0.0.4.3.dist-info already exists. Specify --upgrade to force replacement.\u001b[0m\n",
      "\u001b[33mTarget directory /Users/mayritaspring/anaconda3/lib/python3.6/site-packages/asn1crypto already exists. Specify --upgrade to force replacement.\u001b[0m\n",
      "\u001b[33mTarget directory /Users/mayritaspring/anaconda3/lib/python3.6/site-packages/asn1crypto-0.24.0.dist-info already exists. Specify --upgrade to force replacement.\u001b[0m\n",
      "\u001b[33mTarget directory /Users/mayritaspring/anaconda3/lib/python3.6/site-packages/cffi-1.11.5.dist-info already exists. Specify --upgrade to force replacement.\u001b[0m\n",
      "\u001b[33mTarget directory /Users/mayritaspring/anaconda3/lib/python3.6/site-packages/cryptography-2.3.dist-info already exists. Specify --upgrade to force replacement.\u001b[0m\n",
      "\u001b[33mTarget directory /Users/mayritaspring/anaconda3/lib/python3.6/site-packages/nacl already exists. Specify --upgrade to force replacement.\u001b[0m\n",
      "\u001b[33mTarget directory /Users/mayritaspring/anaconda3/lib/python3.6/site-packages/six.py already exists. Specify --upgrade to force replacement.\u001b[0m\n",
      "\u001b[33mTarget directory /Users/mayritaspring/anaconda3/lib/python3.6/site-packages/six-1.11.0.dist-info already exists. Specify --upgrade to force replacement.\u001b[0m\n"
     ]
    }
   ],
   "source": [
    "! pip install --target=/Users/mayritaspring/anaconda3/lib/python3.6/site-packages storage"
   ]
  },
  {
   "cell_type": "code",
   "execution_count": 9,
   "metadata": {},
   "outputs": [
    {
     "name": "stdout",
     "output_type": "stream",
     "text": [
      "Collecting google.cloud.vision\n",
      "  Using cached https://files.pythonhosted.org/packages/d3/2f/8c16bbe7ac4d2de3797bd2ee5a9eb86e37aabba6726f50a525af3378fbc8/google_cloud_vision-0.33.0-py2.py3-none-any.whl\n",
      "Collecting google-api-core[grpc]<2.0.0dev,>=1.1.0 (from google.cloud.vision)\n",
      "  Using cached https://files.pythonhosted.org/packages/ab/d0/8393a844c1a4cf9f74908ca1b1a137665519157643e15e112a4a21b71d56/google_api_core-1.3.0-py2.py3-none-any.whl\n",
      "Collecting googleapis-common-protos<2.0dev,>=1.5.3 (from google-api-core[grpc]<2.0.0dev,>=1.1.0->google.cloud.vision)\n",
      "Collecting six>=1.10.0 (from google-api-core[grpc]<2.0.0dev,>=1.1.0->google.cloud.vision)\n",
      "  Using cached https://files.pythonhosted.org/packages/67/4b/141a581104b1f6397bfa78ac9d43d8ad29a7ca43ea90a2d863fe3056e86a/six-1.11.0-py2.py3-none-any.whl\n",
      "Collecting pytz (from google-api-core[grpc]<2.0.0dev,>=1.1.0->google.cloud.vision)\n",
      "  Using cached https://files.pythonhosted.org/packages/30/4e/27c34b62430286c6d59177a0842ed90dc789ce5d1ed740887653b898779a/pytz-2018.5-py2.py3-none-any.whl\n",
      "Collecting setuptools>=34.0.0 (from google-api-core[grpc]<2.0.0dev,>=1.1.0->google.cloud.vision)\n",
      "  Using cached https://files.pythonhosted.org/packages/ff/f4/385715ccc461885f3cedf57a41ae3c12b5fec3f35cce4c8706b1a112a133/setuptools-40.0.0-py2.py3-none-any.whl\n",
      "Collecting protobuf>=3.0.0 (from google-api-core[grpc]<2.0.0dev,>=1.1.0->google.cloud.vision)\n",
      "  Using cached https://files.pythonhosted.org/packages/6d/7e/51c91b28cb8446ebd7231d375a2025bca4c59d15ddc0cf2dd0867b400cd7/protobuf-3.6.0-cp36-cp36m-macosx_10_6_intel.macosx_10_9_intel.macosx_10_9_x86_64.macosx_10_10_intel.macosx_10_10_x86_64.whl\n",
      "Collecting requests<3.0.0dev,>=2.18.0 (from google-api-core[grpc]<2.0.0dev,>=1.1.0->google.cloud.vision)\n",
      "  Using cached https://files.pythonhosted.org/packages/65/47/7e02164a2a3db50ed6d8a6ab1d6d60b69c4c3fdf57a284257925dfc12bda/requests-2.19.1-py2.py3-none-any.whl\n",
      "Collecting google-auth<2.0.0dev,>=0.4.0 (from google-api-core[grpc]<2.0.0dev,>=1.1.0->google.cloud.vision)\n",
      "  Using cached https://files.pythonhosted.org/packages/58/cb/96dbb4e50e7a9d856e89cc9c8e36ab1055f9774f7d85f37e2156c1d79d9f/google_auth-1.5.1-py2.py3-none-any.whl\n",
      "Collecting grpcio>=1.8.2; extra == \"grpc\" (from google-api-core[grpc]<2.0.0dev,>=1.1.0->google.cloud.vision)\n",
      "  Using cached https://files.pythonhosted.org/packages/c2/bc/31fb22c3dcccf018341a88bb9edc642a9b78bdedf9153bd3edc0d8e2f070/grpcio-1.14.0-cp36-cp36m-macosx_10_7_intel.whl\n",
      "Collecting urllib3<1.24,>=1.21.1 (from requests<3.0.0dev,>=2.18.0->google-api-core[grpc]<2.0.0dev,>=1.1.0->google.cloud.vision)\n",
      "  Using cached https://files.pythonhosted.org/packages/bd/c9/6fdd990019071a4a32a5e7cb78a1d92c53851ef4f56f62a3486e6a7d8ffb/urllib3-1.23-py2.py3-none-any.whl\n",
      "Collecting certifi>=2017.4.17 (from requests<3.0.0dev,>=2.18.0->google-api-core[grpc]<2.0.0dev,>=1.1.0->google.cloud.vision)\n",
      "  Using cached https://files.pythonhosted.org/packages/7c/e6/92ad559b7192d846975fc916b65f667c7b8c3a32bea7372340bfe9a15fa5/certifi-2018.4.16-py2.py3-none-any.whl\n",
      "Collecting idna<2.8,>=2.5 (from requests<3.0.0dev,>=2.18.0->google-api-core[grpc]<2.0.0dev,>=1.1.0->google.cloud.vision)\n",
      "  Using cached https://files.pythonhosted.org/packages/4b/2a/0276479a4b3caeb8a8c1af2f8e4355746a97fab05a372e4a2c6a6b876165/idna-2.7-py2.py3-none-any.whl\n",
      "Collecting chardet<3.1.0,>=3.0.2 (from requests<3.0.0dev,>=2.18.0->google-api-core[grpc]<2.0.0dev,>=1.1.0->google.cloud.vision)\n",
      "  Using cached https://files.pythonhosted.org/packages/bc/a9/01ffebfb562e4274b6487b4bb1ddec7ca55ec7510b22e4c51f14098443b8/chardet-3.0.4-py2.py3-none-any.whl\n",
      "Collecting rsa>=3.1.4 (from google-auth<2.0.0dev,>=0.4.0->google-api-core[grpc]<2.0.0dev,>=1.1.0->google.cloud.vision)\n",
      "  Using cached https://files.pythonhosted.org/packages/e1/ae/baedc9cb175552e95f3395c43055a6a5e125ae4d48a1d7a924baca83e92e/rsa-3.4.2-py2.py3-none-any.whl\n",
      "Collecting cachetools>=2.0.0 (from google-auth<2.0.0dev,>=0.4.0->google-api-core[grpc]<2.0.0dev,>=1.1.0->google.cloud.vision)\n",
      "  Using cached https://files.pythonhosted.org/packages/0a/58/cbee863250b31d80f47401d04f34038db6766f95dea1cc909ea099c7e571/cachetools-2.1.0-py2.py3-none-any.whl\n",
      "Collecting pyasn1-modules>=0.2.1 (from google-auth<2.0.0dev,>=0.4.0->google-api-core[grpc]<2.0.0dev,>=1.1.0->google.cloud.vision)\n",
      "\u001b[?25l  Downloading https://files.pythonhosted.org/packages/19/02/fa63f7ba30a0d7b925ca29d034510fc1ffde53264b71b4155022ddf3ab5d/pyasn1_modules-0.2.2-py2.py3-none-any.whl (62kB)\n",
      "\u001b[K    100% |████████████████████████████████| 71kB 395kB/s ta 0:00:01\n",
      "\u001b[?25hCollecting pyasn1>=0.1.3 (from rsa>=3.1.4->google-auth<2.0.0dev,>=0.4.0->google-api-core[grpc]<2.0.0dev,>=1.1.0->google.cloud.vision)\n",
      "\u001b[?25l  Downloading https://files.pythonhosted.org/packages/d1/a1/7790cc85db38daa874f6a2e6308131b9953feb1367f2ae2d1123bb93a9f5/pyasn1-0.4.4-py2.py3-none-any.whl (72kB)\n",
      "\u001b[K    100% |████████████████████████████████| 81kB 952kB/s ta 0:00:011\n",
      "\u001b[?25hInstalling collected packages: six, setuptools, protobuf, googleapis-common-protos, pytz, urllib3, certifi, idna, chardet, requests, pyasn1, rsa, cachetools, pyasn1-modules, google-auth, grpcio, google-api-core, google.cloud.vision\n",
      "Successfully installed cachetools-2.1.0 certifi-2018.4.16 chardet-3.0.4 google-api-core-1.3.0 google-auth-1.5.1 google.cloud.vision googleapis-common-protos-1.5.3 grpcio-1.14.0 idna-2.7 protobuf-3.6.0 pyasn1-0.4.4 pyasn1-modules-0.2.2 pytz-2018.5 requests-2.19.1 rsa-3.4.2 setuptools-40.0.0 six-1.11.0 urllib3-1.23\n",
      "\u001b[33mTarget directory /Users/mayritaspring/anaconda3/lib/python3.6/site-packages/idna-2.7.dist-info already exists. Specify --upgrade to force replacement.\u001b[0m\n",
      "\u001b[33mTarget directory /Users/mayritaspring/anaconda3/lib/python3.6/site-packages/chardet-3.0.4.dist-info already exists. Specify --upgrade to force replacement.\u001b[0m\n",
      "\u001b[33mTarget directory /Users/mayritaspring/anaconda3/lib/python3.6/site-packages/pytz-2018.5.dist-info already exists. Specify --upgrade to force replacement.\u001b[0m\n",
      "\u001b[33mTarget directory /Users/mayritaspring/anaconda3/lib/python3.6/site-packages/chardet already exists. Specify --upgrade to force replacement.\u001b[0m\n",
      "\u001b[33mTarget directory /Users/mayritaspring/anaconda3/lib/python3.6/site-packages/easy_install.py already exists. Specify --upgrade to force replacement.\u001b[0m\n",
      "\u001b[33mTarget directory /Users/mayritaspring/anaconda3/lib/python3.6/site-packages/idna already exists. Specify --upgrade to force replacement.\u001b[0m\n",
      "\u001b[33mTarget directory /Users/mayritaspring/anaconda3/lib/python3.6/site-packages/pytz already exists. Specify --upgrade to force replacement.\u001b[0m\n",
      "\u001b[33mTarget directory /Users/mayritaspring/anaconda3/lib/python3.6/site-packages/__pycache__ already exists. Specify --upgrade to force replacement.\u001b[0m\n",
      "\u001b[33mTarget directory /Users/mayritaspring/anaconda3/lib/python3.6/site-packages/requests-2.19.1.dist-info already exists. Specify --upgrade to force replacement.\u001b[0m\n",
      "\u001b[33mTarget directory /Users/mayritaspring/anaconda3/lib/python3.6/site-packages/requests already exists. Specify --upgrade to force replacement.\u001b[0m\n",
      "\u001b[33mTarget directory /Users/mayritaspring/anaconda3/lib/python3.6/site-packages/urllib3-1.23.dist-info already exists. Specify --upgrade to force replacement.\u001b[0m\n",
      "\u001b[33mTarget directory /Users/mayritaspring/anaconda3/lib/python3.6/site-packages/certifi already exists. Specify --upgrade to force replacement.\u001b[0m\n",
      "\u001b[33mTarget directory /Users/mayritaspring/anaconda3/lib/python3.6/site-packages/certifi-2018.4.16.dist-info already exists. Specify --upgrade to force replacement.\u001b[0m\n",
      "\u001b[33mTarget directory /Users/mayritaspring/anaconda3/lib/python3.6/site-packages/six.py already exists. Specify --upgrade to force replacement.\u001b[0m\n",
      "\u001b[33mTarget directory /Users/mayritaspring/anaconda3/lib/python3.6/site-packages/six-1.11.0.dist-info already exists. Specify --upgrade to force replacement.\u001b[0m\n",
      "\u001b[33mTarget directory /Users/mayritaspring/anaconda3/lib/python3.6/site-packages/urllib3 already exists. Specify --upgrade to force replacement.\u001b[0m\n",
      "\u001b[33mTarget directory /Users/mayritaspring/anaconda3/lib/python3.6/site-packages/setuptools already exists. Specify --upgrade to force replacement.\u001b[0m\n",
      "\u001b[33mTarget directory /Users/mayritaspring/anaconda3/lib/python3.6/site-packages/pkg_resources already exists. Specify --upgrade to force replacement.\u001b[0m\n",
      "\u001b[33mTarget directory /Users/mayritaspring/anaconda3/lib/python3.6/site-packages/setuptools-40.0.0.dist-info already exists. Specify --upgrade to force replacement.\u001b[0m\n",
      "\u001b[33mTarget directory /Users/mayritaspring/anaconda3/lib/python3.6/site-packages/bin already exists. Specify --upgrade to force replacement.\u001b[0m\n"
     ]
    }
   ],
   "source": [
    "! pip install --target=/Users/mayritaspring/anaconda3/lib/python3.6/site-packages google.cloud.vision"
   ]
  },
  {
   "cell_type": "code",
   "execution_count": null,
   "metadata": {},
   "outputs": [],
   "source": []
  }
 ],
 "metadata": {
  "kernelspec": {
   "display_name": "Python 3",
   "language": "python",
   "name": "python3"
  },
  "language_info": {
   "codemirror_mode": {
    "name": "ipython",
    "version": 3
   },
   "file_extension": ".py",
   "mimetype": "text/x-python",
   "name": "python",
   "nbconvert_exporter": "python",
   "pygments_lexer": "ipython3",
   "version": "3.6.5"
  }
 },
 "nbformat": 4,
 "nbformat_minor": 2
}
