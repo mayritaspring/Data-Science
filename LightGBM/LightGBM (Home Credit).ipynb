{
 "cells": [
  {
   "cell_type": "markdown",
   "metadata": {},
   "source": [
    "## 1. Import packages"
   ]
  },
  {
   "cell_type": "code",
   "execution_count": 16,
   "metadata": {},
   "outputs": [],
   "source": [
    "import pandas as pd\n",
    "import warnings\n",
    "warnings.filterwarnings(\"ignore\")\n",
    "import lightgbm as lgb\n",
    "from lightgbm import LGBMClassifier\n",
    "from bayes_opt import BayesianOptimization\n",
    "from sklearn.model_selection import GridSearchCV\n",
    "import matplotlib.pyplot as plt"
   ]
  },
  {
   "cell_type": "code",
   "execution_count": 26,
   "metadata": {},
   "outputs": [],
   "source": [
    "# Function for Measure Performance\n",
    "from  sklearn  import  metrics\n",
    "def measure_performance(X,y,clf, show_accuracy=True, show_classification_report=True, show_confusion_matrix=True, show_roc_auc = True):\n",
    "    y_pred = clf.predict(X)  \n",
    "    if show_accuracy:\n",
    "        print (\"Accuracy:{0:.3f}\".format(metrics.accuracy_score(y,y_pred))),\"\\n\"\n",
    "\n",
    "    if show_classification_report:\n",
    "        print(\"Classification report\")\n",
    "        print(metrics.classification_report(y,y_pred)),\"\\n\"\n",
    "        \n",
    "    if show_confusion_matrix:\n",
    "        print(\"Confusion matrix\")\n",
    "        print(metrics.confusion_matrix(y,y_pred)),\"\\n\"  \n",
    "        \n",
    "    if show_roc_auc:\n",
    "        print(\"ROC AUC Score\")\n",
    "        print(metrics.roc_auc_score(y,y_pred)),\"\\n\"      \n"
   ]
  },
  {
   "cell_type": "markdown",
   "metadata": {},
   "source": [
    "## 2. Data Preparation for LightGBM   "
   ]
  },
  {
   "cell_type": "code",
   "execution_count": 17,
   "metadata": {},
   "outputs": [],
   "source": [
    "application_train = pd.read_csv('../Kaggle data/application_train.csv')\n",
    "\n",
    "# use LabelEncoder to convert categorical features to int type before construct Dataset\n",
    "from sklearn.preprocessing import LabelEncoder\n",
    "def label_encoder(input_df, encoder_dict=None):\n",
    "    \"\"\" Process a dataframe into a form useable by LightGBM \"\"\"\n",
    "    # Label encode categoricals\n",
    "    categorical_feats = input_df.columns[input_df.dtypes == 'object']\n",
    "    for feat in categorical_feats:\n",
    "        encoder = LabelEncoder()\n",
    "        input_df[feat] = encoder.fit_transform(input_df[feat].fillna('NULL'))\n",
    "    return input_df, categorical_feats.tolist(), encoder_dict\n",
    "application_train, categorical_feats, encoder_dict = label_encoder(application_train)\n",
    "X = application_train.drop('TARGET', axis=1)\n",
    "y = application_train.TARGET"
   ]
  },
  {
   "cell_type": "markdown",
   "metadata": {},
   "source": [
    "## 3. LightGBM (with Bayesian Optimization)"
   ]
  },
  {
   "cell_type": "markdown",
   "metadata": {},
   "source": [
    "### Step 1: Set parameters to be tuned"
   ]
  },
  {
   "cell_type": "code",
   "execution_count": 19,
   "metadata": {},
   "outputs": [],
   "source": [
    "def lgb_eval(num_leaves, feature_fraction, bagging_fraction, max_depth, lambda_l1, lambda_l2, min_split_gain, min_child_weight):\n",
    "    params = {'application':'binary','num_iterations':4000, 'learning_rate':0.05, 'early_stopping_round':100, 'metric':'auc'}\n",
    "    params[\"num_leaves\"] = int(round(num_leaves))\n",
    "    params['feature_fraction'] = max(min(feature_fraction, 1), 0)\n",
    "    params['bagging_fraction'] = max(min(bagging_fraction, 1), 0)\n",
    "    params['max_depth'] = round(max_depth)\n",
    "    params['lambda_l1'] = max(lambda_l1, 0)\n",
    "    params['lambda_l2'] = max(lambda_l2, 0)\n",
    "    params['min_split_gain'] = min_split_gain\n",
    "    params['min_child_weight'] = min_child_weight\n",
    "    cv_result = lgb.cv(params, train_data, nfold=n_folds, seed=random_seed, stratified=True, verbose_eval =200, metrics=['auc'])\n",
    "    return max(cv_result['auc-mean'])"
   ]
  },
  {
   "cell_type": "markdown",
   "metadata": {},
   "source": [
    "### Step 2: Set the range for each parameter (make the range as narrow as possible)"
   ]
  },
  {
   "cell_type": "code",
   "execution_count": 20,
   "metadata": {},
   "outputs": [],
   "source": [
    "lgbBO = BayesianOptimization(lgb_eval, {'num_leaves': (24, 45),\n",
    "                                        'feature_fraction': (0.1, 0.9),\n",
    "                                        'bagging_fraction': (0.8, 1),\n",
    "                                        'max_depth': (5, 8.99),\n",
    "                                        'lambda_l1': (0, 5),\n",
    "                                        'lambda_l2': (0, 3),\n",
    "                                        'min_split_gain': (0.001, 0.1),\n",
    "                                        'min_child_weight': (5, 50)}, random_state=0)"
   ]
  },
  {
   "cell_type": "markdown",
   "metadata": {},
   "source": [
    "### Step 3: Bayesian Optimization: Maximize"
   ]
  },
  {
   "cell_type": "code",
   "execution_count": 21,
   "metadata": {},
   "outputs": [],
   "source": [
    "#lgbBO.maximize(init_points=init_round, n_iter=opt_round)"
   ]
  },
  {
   "cell_type": "markdown",
   "metadata": {},
   "source": [
    "### Step 4: Get the parameters"
   ]
  },
  {
   "cell_type": "code",
   "execution_count": 22,
   "metadata": {},
   "outputs": [],
   "source": [
    "# lgbBO.res['max']['max_params']"
   ]
  },
  {
   "cell_type": "code",
   "execution_count": 33,
   "metadata": {},
   "outputs": [],
   "source": [
    "# ### Put all together\n",
    "X = application_train.drop('TARGET', axis=1)\n",
    "y = application_train.TARGET\n",
    "def bayes_parameter_opt_lgb(X, y, init_round=15, opt_round=25, n_folds=5, random_seed=6, n_estimators=10000, learning_rate=0.05, output_process=False):\n",
    "    # prepare data\n",
    "    train_data = lgb.Dataset(data=X, label=y, categorical_feature = categorical_feats, free_raw_data=False)\n",
    "    # parameters\n",
    "    def lgb_eval(num_leaves, feature_fraction, bagging_fraction, max_depth, lambda_l1, lambda_l2, min_split_gain, min_child_weight, max_bin):\n",
    "        params = {'application':'binary','num_iterations': n_estimators, 'learning_rate':learning_rate, 'early_stopping_round':100, 'metric':'auc'}\n",
    "        params[\"num_leaves\"] = int(round(num_leaves))\n",
    "        params['feature_fraction'] = max(min(feature_fraction, 1), 0)\n",
    "        params['bagging_fraction'] = max(min(bagging_fraction, 1), 0)\n",
    "        params['max_depth'] = int(round(max_depth))\n",
    "        params['lambda_l1'] = max(lambda_l1, 0)\n",
    "        params['lambda_l2'] = max(lambda_l2, 0)\n",
    "        params['min_split_gain'] = min_split_gain\n",
    "        params['min_child_weight'] = min_child_weight\n",
    "        params['max_bin'] = int(round(max_bin))\n",
    "        cv_result = lgb.cv(params, train_data, nfold=n_folds, seed=random_seed, stratified=True, verbose_eval =200, metrics=['auc'])\n",
    "        return max(cv_result['auc-mean'])\n",
    "    # range \n",
    "    lgbBO = BayesianOptimization(lgb_eval, {'num_leaves': (24, 45),\n",
    "                                            'feature_fraction': (0.1, 0.9),\n",
    "                                            'bagging_fraction': (0.8, 1),\n",
    "                                            'max_depth': (5, 8.99),\n",
    "                                            'lambda_l1': (0, 5),\n",
    "                                            'lambda_l2': (0, 3),\n",
    "                                            'min_split_gain': (0.001, 0.1),\n",
    "                                            'min_child_weight': (5, 50),\n",
    "                                           'max_bin': (5, 50)}, random_state=0)\n",
    "    # optimize\n",
    "    lgbBO.maximize(init_points=init_round, n_iter=opt_round)\n",
    "    \n",
    "    # output optimization process\n",
    "    if output_process==True: lgbBO.points_to_csv(\"bayes_opt_result.csv\")\n",
    "    \n",
    "    # return best parameters\n",
    "    return lgbBO.res['max']['max_params']"
   ]
  },
  {
   "cell_type": "code",
   "execution_count": 34,
   "metadata": {},
   "outputs": [
    {
     "name": "stdout",
     "output_type": "stream",
     "text": [
      "\u001b[31mInitialization\u001b[0m\n",
      "\u001b[94m------------------------------------------------------------------------------------------------------------------------------------------------------------------------------------\u001b[0m\n",
      " Step |   Time |      Value |   bagging_fraction |   feature_fraction |   lambda_l1 |   lambda_l2 |   max_bin |   max_depth |   min_child_weight |   min_split_gain |   num_leaves | \n",
      "    1 | 00m19s | \u001b[35m   0.74696\u001b[0m | \u001b[32m            0.9583\u001b[0m | \u001b[32m            0.6167\u001b[0m | \u001b[32m     4.8931\u001b[0m | \u001b[32m     1.9198\u001b[0m | \u001b[32m  21.1779\u001b[0m | \u001b[32m     5.3476\u001b[0m | \u001b[32m           32.7936\u001b[0m | \u001b[32m          0.0272\u001b[0m | \u001b[32m     35.5251\u001b[0m | \n",
      "    2 | 00m14s | \u001b[35m   0.74820\u001b[0m | \u001b[32m            0.9058\u001b[0m | \u001b[32m            0.4501\u001b[0m | \u001b[32m     3.9958\u001b[0m | \u001b[32m     0.4301\u001b[0m | \u001b[32m  24.6664\u001b[0m | \u001b[32m     5.0807\u001b[0m | \u001b[32m           32.5443\u001b[0m | \u001b[32m          0.0776\u001b[0m | \u001b[32m     39.0190\u001b[0m | \n",
      "    3 | 00m18s | \u001b[35m   0.74917\u001b[0m | \u001b[32m            0.9136\u001b[0m | \u001b[32m            0.8134\u001b[0m | \u001b[32m     2.3074\u001b[0m | \u001b[32m     2.8340\u001b[0m | \u001b[32m  36.3934\u001b[0m | \u001b[32m     8.3222\u001b[0m | \u001b[32m           32.7620\u001b[0m | \u001b[32m          0.0462\u001b[0m | \u001b[32m     36.6580\u001b[0m | \n",
      "    4 | 00m15s |    0.74904 |             0.9851 |             0.8709 |      3.9026 |      1.5655 |    7.7101 |      8.1048 |            47.4687 |           0.0573 |      35.4425 | \n",
      "    5 | 00m18s | \u001b[35m   0.75030\u001b[0m | \u001b[32m            0.8142\u001b[0m | \u001b[32m            0.4068\u001b[0m | \u001b[32m     0.5914\u001b[0m | \u001b[32m     1.2440\u001b[0m | \u001b[32m  35.0045\u001b[0m | \u001b[32m     8.4713\u001b[0m | \u001b[32m           35.6819\u001b[0m | \u001b[32m          0.0029\u001b[0m | \u001b[32m     32.8968\u001b[0m | \n",
      "\u001b[31mBayesian Optimization\u001b[0m\n",
      "\u001b[94m------------------------------------------------------------------------------------------------------------------------------------------------------------------------------------\u001b[0m\n",
      " Step |   Time |      Value |   bagging_fraction |   feature_fraction |   lambda_l1 |   lambda_l2 |   max_bin |   max_depth |   min_child_weight |   min_split_gain |   num_leaves | \n",
      "    6 | 00m30s |    0.74691 |             0.8277 |             0.8245 |      3.4583 |      0.5995 |   49.7869 |      5.2200 |            49.6586 |           0.0023 |      39.5904 | \n",
      "    7 | 00m34s |    0.75020 |             0.8599 |             0.8316 |      0.0633 |      2.9664 |    5.5450 |      8.8390 |            49.3850 |           0.0776 |      44.1680 | \n",
      "    8 | 00m32s | \u001b[35m   0.75067\u001b[0m | \u001b[32m            0.8607\u001b[0m | \u001b[32m            0.2805\u001b[0m | \u001b[32m     0.1292\u001b[0m | \u001b[32m     0.0973\u001b[0m | \u001b[32m  11.4620\u001b[0m | \u001b[32m     8.9445\u001b[0m | \u001b[32m            7.0045\u001b[0m | \u001b[32m          0.0478\u001b[0m | \u001b[32m     40.3652\u001b[0m | \n",
      "    9 | 00m34s |    0.75044 |             0.9471 |             0.2260 |      1.1556 |      0.0084 |   48.6164 |      8.7187 |             7.7401 |           0.0245 |      42.5592 | \n",
      "   10 | 00m32s |    0.74658 |             0.9717 |             0.1842 |      4.6956 |      0.0736 |   28.3090 |      8.8771 |            47.2419 |           0.0594 |      43.8664 | \n",
      "   11 | 00m31s |    0.74891 |             0.8428 |             0.8947 |      0.1630 |      0.2164 |   39.6858 |      8.9369 |            16.2135 |           0.0691 |      24.8534 | \n",
      "   12 | 00m31s |    0.74837 |             0.9202 |             0.8719 |      0.2654 |      0.1658 |    6.6825 |      6.9380 |            39.7203 |           0.0407 |      24.5129 | \n",
      "   13 | 00m35s |    0.75011 |             0.8955 |             0.7279 |      0.1482 |      0.3366 |    5.3929 |      8.8410 |            26.1417 |           0.0339 |      43.6664 | \n",
      "   14 | 00m32s |    0.74706 |             0.8392 |             0.7375 |      0.1490 |      0.3771 |   32.2484 |      5.2046 |             5.2295 |           0.0789 |      44.8281 | \n",
      "   15 | 00m33s |    0.73894 |             0.9926 |             0.1269 |      4.8586 |      0.8678 |   49.1681 |      8.8201 |            38.9625 |           0.0895 |      24.0253 | \n",
      "{'num_leaves': 40.36516682182207, 'feature_fraction': 0.2804573216950702, 'bagging_fraction': 0.8606778717048246, 'max_depth': 8.944487533624372, 'lambda_l1': 0.12923438178409963, 'lambda_l2': 0.097255485181867, 'min_split_gain': 0.04783390506262965, 'min_child_weight': 7.004482630166451, 'max_bin': 11.46202119198406}\n"
     ]
    }
   ],
   "source": [
    "opt_params = bayes_parameter_opt_lgb(X, y, init_round=5, opt_round=10, n_folds=3, random_seed=6, n_estimators=100, learning_rate=0.05)\n",
    "print(opt_params)"
   ]
  },
  {
   "cell_type": "markdown",
   "metadata": {},
   "source": [
    "### Step 5: Apply tuned parameters to LightGBM"
   ]
  },
  {
   "cell_type": "code",
   "execution_count": 35,
   "metadata": {},
   "outputs": [
    {
     "name": "stdout",
     "output_type": "stream",
     "text": [
      "Training until validation scores don't improve for 100 rounds.\n",
      "[100]\ttraining's auc: 0.766917\tvalid_1's auc: 0.747011\n",
      "[200]\ttraining's auc: 0.788855\tvalid_1's auc: 0.753153\n",
      "[300]\ttraining's auc: 0.806074\tvalid_1's auc: 0.754272\n",
      "[400]\ttraining's auc: 0.820784\tvalid_1's auc: 0.754859\n",
      "Early stopping, best iteration is:\n",
      "[393]\ttraining's auc: 0.81969\tvalid_1's auc: 0.754972\n",
      "Accuracy:0.920\n",
      "Classification report\n",
      "             precision    recall  f1-score   support\n",
      "\n",
      "          0       0.92      1.00      0.96     84807\n",
      "          1       0.56      0.02      0.03      7447\n",
      "\n",
      "avg / total       0.89      0.92      0.88     92254\n",
      "\n",
      "Confusion matrix\n",
      "[[84705   102]\n",
      " [ 7317   130]]\n",
      "ROC AUC Score\n",
      "0.5081269815320397\n",
      "Feature importances: [219, 113, 135, 62, 49, 91, 210, 498, 324, 516, 92, 152, 187, 176, 118, 269, 414, 406, 317, 347, 327, 0, 36, 82, 2, 37, 15, 343, 131, 107, 141, 185, 230, 9, 10, 12, 72, 28, 31, 281, 499, 395, 419, 124, 161, 161, 136, 135, 84, 104, 127, 91, 167, 116, 134, 105, 174, 139, 170, 123, 96, 151, 90, 150, 114, 102, 210, 101, 104, 80, 133, 96, 156, 168, 107, 136, 72, 127, 89, 111, 210, 137, 92, 98, 150, 41, 25, 129, 99, 12, 201, 123, 186, 114, 323, 0, 109, 0, 12, 17, 0, 18, 0, 0, 14, 0, 32, 20, 2, 24, 0, 37, 0, 0, 0, 35, 28, 59, 128, 184, 330]\n",
      "Plot feature importances...\n"
     ]
    },
    {
     "data": {
      "image/png": "[encoded data removed]",
      "text/plain": [
       "<Figure size 432x288 with 1 Axes>"
      ]
     },
     "metadata": {},
     "output_type": "display_data"
    }
   ],
   "source": [
    "# Prepare dataset \n",
    "from sklearn import cross_validation\n",
    "seed = 7\n",
    "test_size = 0.3\n",
    "X_train, X_test, y_train, y_test = cross_validation.train_test_split(X, y, test_size=test_size, random_state=seed)\n",
    "\n",
    "# LGBM with Bayesian Optimization\n",
    "LGBM_bayes = LGBMClassifier(\n",
    "    num_leaves=41,\n",
    "    feature_fraction = 0.2804573216950702,\n",
    "    bagging_fraction = 0.8606778717048246,\n",
    "    max_depth=9,\n",
    "    lambda_l1 = 0.12923438178409963,\n",
    "    lambda_l2 = 0.097255485181867,\n",
    "    min_split_gain=0.04783390506262965,\n",
    "    min_child_weight=8,\n",
    "    max_bin = 12,\n",
    "    random_state=0, \n",
    "    n_estimators=100, \n",
    "    learning_rate=0.05,\n",
    "    application = 'binary',\n",
    "    num_iterations = 10000, \n",
    "    early_stopping_round = 100, \n",
    "    metric = 'auc'\n",
    "  )\n",
    "\n",
    "\n",
    "\n",
    "LGBM_bayes_fit = LGBM_bayes.fit(X_train, y_train, eval_set=[(X_train, y_train), (X_test, y_test)], \n",
    "    eval_metric= 'auc', verbose= 100, early_stopping_rounds= 200)\n",
    "\n",
    "# measure performance\n",
    "LGBM_bayes_measure = measure_performance(X = X_test, y = y_test, clf = LGBM_bayes, show_classification_report=True, show_confusion_matrix=True, show_roc_auc = True)\n",
    "\n",
    "# feature importances\n",
    "print('Feature importances:', list(LGBM_bayes.feature_importances_))\n",
    "\n",
    "# visualization\n",
    "print('Plot feature importances...')\n",
    "ax = lgb.plot_importance(LGBM_bayes_fit, max_num_features=10)\n",
    "plt.show()"
   ]
  },
  {
   "cell_type": "markdown",
   "metadata": {},
   "source": [
    "# 4. LightGBM (with Grid Search)"
   ]
  },
  {
   "cell_type": "code",
   "execution_count": null,
   "metadata": {},
   "outputs": [
    {
     "name": "stdout",
     "output_type": "stream",
     "text": [
      "Start training...\n"
     ]
    }
   ],
   "source": [
    "# Grid Search\n",
    "print('Start training...')\n",
    "estimator = lgb.LGBMClassifier(objective = 'binary', learning_rate = 0.05, n_estimators = 100, random_state=0)\n",
    "\n",
    "param_grid = {\n",
    "    'num_leaves': [10,20,30,40], \n",
    "    'feature_fraction': [0.1,0.2,0.3],\n",
    "    'bagging_fraction': [0.6,0.7,0.8],\n",
    "    'max_depth':[5,10,15],\n",
    "    'max_bin':[5,10,15],\n",
    "    'lambda_l1':[0.1,0.2,0.3],\n",
    "    'lambda_l2':[0.08,0.09,0.1],\n",
    "    'min_split_gain':[0.03,0.04,0.05],\n",
    "    'min_child_weight':[7,8,9]\n",
    "}\n",
    "\n",
    "LGBM_grid = GridSearchCV(estimator, param_grid)\n",
    "LGBM_grid.fit(X_train, y_train)\n",
    "print('Best parameters found by grid search are:', LGBM_grid.best_params_)\n",
    "\n",
    "# Final Model\n",
    "evals_result = {} \n",
    "print('Start predicting...')\n",
    "LGBM_grid_final = lgb.LGBMClassifier(objective = 'binary',\n",
    "                                      learning_rate = 0.05, \n",
    "                                     n_estimators = 100, \n",
    "                                     random_state=0,\n",
    "                              num_leaves = LGBM_grid.best_params_['num_leaves'],\n",
    "                                feature_fraction = LGBM_grid.best_params_['feature_fraction'], \n",
    "                              bagging_fraction = LGBM_grid.best_params_['bagging_fraction'],\n",
    "                             max_depth = LGBM_grid.best_params_['max_depth'],\n",
    "                              max_bin = LGBM_grid.best_params_['max_bin'],\n",
    "                              lambda_l1 = LGBM_grid.best_params_['lambda_l1'],\n",
    "                              lambda_l2 = LGBM_grid.best_params_['lambda_l2'],\n",
    "                            min_split_gain = LGBM_grid.best_params_['min_split_gain'],\n",
    "                            min_child_weight = LGBM_grid.best_params_['min_child_weight'])\n",
    "LGBM_grid_final_fit = LGBM_grid_final.fit(X_train, y_train)\n",
    "LGBM_grid_measure = measure_performance(X = X_test, y = y_test, clf = LGBM_grid_final, show_classification_report=True, show_confusion_matrix=True)\n",
    "\n",
    "# feature importances\n",
    "print('Feature importances:', list(LGBM_grid_final.feature_importances_))\n",
    "\n",
    "# visualization\n",
    "print('Plot feature importances...')\n",
    "ax = lgb.plot_importance(LGBM_grid_final_fit, max_num_features=10)\n",
    "plt.show()"
   ]
  },
  {
   "cell_type": "code",
   "execution_count": null,
   "metadata": {},
   "outputs": [],
   "source": [
    "# Submission file\n",
    "application_test = pd.read_csv('../Kaggle data/application_test.csv')\n",
    "test_df = label_encoder(application_test)[0]\n",
    "\n",
    "#Bayes Optimization\n",
    "out_bayes = pd.DataFrame({\"SK_ID_CURR\":test_df[\"SK_ID_CURR\"], \"TARGET\":LGBM_bayes.predict_proba(test_df)[:,1]})\n",
    "out_bayes.to_csv(\"submissions_toy_bayes.csv\", index=False)\n",
    "\n",
    "#Grid Search\n",
    "out_grid = pd.DataFrame({\"SK_ID_CURR\":test_df[\"SK_ID_CURR\"], \"TARGET\":LGBM_grid.predict_proba(test_df)[:,1]})\n",
    "out_grid.to_csv(\"submissions_toy_grid.csv\", index=False)"
   ]
  }
 ],
 "metadata": {
  "kernelspec": {
   "display_name": "Python 3",
   "language": "python",
   "name": "python3"
  },
  "language_info": {
   "codemirror_mode": {
    "name": "ipython",
    "version": 3
   },
   "file_extension": ".py",
   "mimetype": "text/x-python",
   "name": "python",
   "nbconvert_exporter": "python",
   "pygments_lexer": "ipython3",
   "version": "3.6.5"
  }
 },
 "nbformat": 4,
 "nbformat_minor": 2
}
